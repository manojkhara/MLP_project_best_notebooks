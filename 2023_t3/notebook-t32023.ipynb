{
 "cells": [
  {
   "cell_type": "code",
   "execution_count": 1,
   "id": "a13e5f7c",
   "metadata": {
    "_cell_guid": "b1076dfc-b9ad-4769-8c92-a6c4dae69d19",
    "_uuid": "8f2839f25d086af736a60e9eeb907d3b93b6e0e5",
    "execution": {
     "iopub.execute_input": "2023-11-30T17:08:30.213749Z",
     "iopub.status.busy": "2023-11-30T17:08:30.213095Z",
     "iopub.status.idle": "2023-11-30T17:08:35.268596Z",
     "shell.execute_reply": "2023-11-30T17:08:35.267407Z"
    },
    "papermill": {
     "duration": 5.072039,
     "end_time": "2023-11-30T17:08:35.271254",
     "exception": false,
     "start_time": "2023-11-30T17:08:30.199215",
     "status": "completed"
    },
    "tags": []
   },
   "outputs": [
    {
     "name": "stdout",
     "output_type": "stream",
     "text": [
      "/kaggle/input/taxi-fare-guru-total-amount-prediction-challenge/sample.csv.csv\n",
      "/kaggle/input/taxi-fare-guru-total-amount-prediction-challenge/train.csv\n",
      "/kaggle/input/taxi-fare-guru-total-amount-prediction-challenge/test.csv\n"
     ]
    }
   ],
   "source": [
    "# This Python 3 environment comes with many helpful analytics libraries installed\n",
    "# It is defined by the kaggle/python Docker image: https://github.com/kaggle/docker-python\n",
    "# For example, here's several helpful packages to load\n",
    "\n",
    "import numpy as np # linear algebra\n",
    "import pandas as pd # data processing, CSV file I/O (e.g. pd.read_csv)\n",
    "from sklearn.model_selection import train_test_split, cross_validate, GridSearchCV\n",
    "from sklearn.preprocessing import OneHotEncoder, StandardScaler\n",
    "from sklearn.impute import SimpleImputer\n",
    "from sklearn.compose import ColumnTransformer\n",
    "from sklearn.pipeline import FeatureUnion, Pipeline\n",
    "from sklearn.linear_model import LinearRegression\n",
    "from sklearn.neighbors import KNeighborsRegressor\n",
    "from lightgbm import LGBMRegressor\n",
    "from sklearn.metrics import r2_score, mean_squared_error,  mean_absolute_error\n",
    "from xgboost import XGBRegressor\n",
    "from xgboost import plot_importance\n",
    "from sklearn.ensemble import AdaBoostRegressor, RandomForestRegressor, GradientBoostingRegressor\n",
    "import matplotlib.pyplot as plt\n",
    "from sklearn.neural_network import MLPRegressor\n",
    "import seaborn as sns\n",
    "\n",
    "# Input data files are available in the read-only \"../input/\" directory\n",
    "# For example, running this (by clicking learning_raterun or pressing Shift+Enter) will list all files under the input directory\n",
    "\n",
    "import os\n",
    "for dirname, _, filenames in os.walk('/kaggle/input'):\n",
    "    for filename in filenames:\n",
    "        print(os.path.join(dirname, filename))\n",
    "\n",
    "# You can write up to 20GB to the current directory (/kaggle/working/) that gets preserved as output when you create a version using \"Save & Run All\" \n",
    "# You can also write temporary files to /kaggle/temp/, but they won't be saved outside of the current session"
   ]
  },
  {
   "cell_type": "code",
   "execution_count": 2,
   "id": "d7840462",
   "metadata": {
    "execution": {
     "iopub.execute_input": "2023-11-30T17:08:35.295412Z",
     "iopub.status.busy": "2023-11-30T17:08:35.294953Z",
     "iopub.status.idle": "2023-11-30T17:08:35.300026Z",
     "shell.execute_reply": "2023-11-30T17:08:35.298926Z"
    },
    "papermill": {
     "duration": 0.019852,
     "end_time": "2023-11-30T17:08:35.302320",
     "exception": false,
     "start_time": "2023-11-30T17:08:35.282468",
     "status": "completed"
    },
    "tags": []
   },
   "outputs": [],
   "source": [
    "# '''Create path variables for train and test data file locations'''\n",
    "\n",
    "train_path = \"/kaggle/input/taxi-fare-guru-total-amount-prediction-challenge/train.csv\"\n",
    "test_path = \"/kaggle/input/taxi-fare-guru-total-amount-prediction-challenge/test.csv\""
   ]
  },
  {
   "cell_type": "code",
   "execution_count": 3,
   "id": "c0188877",
   "metadata": {
    "execution": {
     "iopub.execute_input": "2023-11-30T17:08:35.326503Z",
     "iopub.status.busy": "2023-11-30T17:08:35.325637Z",
     "iopub.status.idle": "2023-11-30T17:08:35.332260Z",
     "shell.execute_reply": "2023-11-30T17:08:35.330269Z"
    },
    "papermill": {
     "duration": 0.021563,
     "end_time": "2023-11-30T17:08:35.334827",
     "exception": false,
     "start_time": "2023-11-30T17:08:35.313264",
     "status": "completed"
    },
    "tags": []
   },
   "outputs": [],
   "source": [
    "# Initialize empty lists to capture model,score for each estimator and plot their comparsion insights\n",
    "\n",
    "train = []\n",
    "val = []"
   ]
  },
  {
   "cell_type": "code",
   "execution_count": 4,
   "id": "d64b1b8f",
   "metadata": {
    "execution": {
     "iopub.execute_input": "2023-11-30T17:08:35.359021Z",
     "iopub.status.busy": "2023-11-30T17:08:35.358557Z",
     "iopub.status.idle": "2023-11-30T17:08:35.364730Z",
     "shell.execute_reply": "2023-11-30T17:08:35.363535Z"
    },
    "papermill": {
     "duration": 0.020862,
     "end_time": "2023-11-30T17:08:35.366922",
     "exception": false,
     "start_time": "2023-11-30T17:08:35.346060",
     "status": "completed"
    },
    "tags": []
   },
   "outputs": [],
   "source": [
    "# '''Define a function to read train and test data files into pandas DataFrame'''\n",
    "\n",
    "def fetch_dataset(path):\n",
    "    '''returns a DataFrame with rows from the file'''\n",
    "    df = pd.read_csv(path)\n",
    "    return df"
   ]
  },
  {
   "cell_type": "code",
   "execution_count": 5,
   "id": "68d042b5",
   "metadata": {
    "execution": {
     "iopub.execute_input": "2023-11-30T17:08:35.391412Z",
     "iopub.status.busy": "2023-11-30T17:08:35.390506Z",
     "iopub.status.idle": "2023-11-30T17:08:36.564854Z",
     "shell.execute_reply": "2023-11-30T17:08:36.563730Z"
    },
    "papermill": {
     "duration": 1.189872,
     "end_time": "2023-11-30T17:08:36.567767",
     "exception": false,
     "start_time": "2023-11-30T17:08:35.377895",
     "status": "completed"
    },
    "tags": []
   },
   "outputs": [],
   "source": [
    "# '''Load Train & Test datasets into pandas DataFrames'''\n",
    "\n",
    "data = fetch_dataset(train_path)\n",
    "test = fetch_dataset(test_path)"
   ]
  },
  {
   "cell_type": "code",
   "execution_count": 6,
   "id": "a740dd0f",
   "metadata": {
    "execution": {
     "iopub.execute_input": "2023-11-30T17:08:36.592380Z",
     "iopub.status.busy": "2023-11-30T17:08:36.591927Z",
     "iopub.status.idle": "2023-11-30T17:08:36.635588Z",
     "shell.execute_reply": "2023-11-30T17:08:36.634760Z"
    },
    "papermill": {
     "duration": 0.059067,
     "end_time": "2023-11-30T17:08:36.637961",
     "exception": false,
     "start_time": "2023-11-30T17:08:36.578894",
     "status": "completed"
    },
    "tags": []
   },
   "outputs": [
    {
     "data": {
      "text/html": [
       "<div>\n",
       "<style scoped>\n",
       "    .dataframe tbody tr th:only-of-type {\n",
       "        vertical-align: middle;\n",
       "    }\n",
       "\n",
       "    .dataframe tbody tr th {\n",
       "        vertical-align: top;\n",
       "    }\n",
       "\n",
       "    .dataframe thead th {\n",
       "        text-align: right;\n",
       "    }\n",
       "</style>\n",
       "<table border=\"1\" class=\"dataframe\">\n",
       "  <thead>\n",
       "    <tr style=\"text-align: right;\">\n",
       "      <th></th>\n",
       "      <th>VendorID</th>\n",
       "      <th>tpep_pickup_datetime</th>\n",
       "      <th>tpep_dropoff_datetime</th>\n",
       "      <th>passenger_count</th>\n",
       "      <th>trip_distance</th>\n",
       "      <th>RatecodeID</th>\n",
       "      <th>store_and_fwd_flag</th>\n",
       "      <th>PULocationID</th>\n",
       "      <th>DOLocationID</th>\n",
       "      <th>payment_type</th>\n",
       "      <th>extra</th>\n",
       "      <th>tip_amount</th>\n",
       "      <th>tolls_amount</th>\n",
       "      <th>improvement_surcharge</th>\n",
       "      <th>total_amount</th>\n",
       "      <th>congestion_surcharge</th>\n",
       "      <th>Airport_fee</th>\n",
       "    </tr>\n",
       "  </thead>\n",
       "  <tbody>\n",
       "    <tr>\n",
       "      <th>0</th>\n",
       "      <td>1</td>\n",
       "      <td>2023-06-28 17:20:21</td>\n",
       "      <td>2023-06-28 16:34:45</td>\n",
       "      <td>1.0</td>\n",
       "      <td>2.14</td>\n",
       "      <td>1.0</td>\n",
       "      <td>N</td>\n",
       "      <td>120</td>\n",
       "      <td>9</td>\n",
       "      <td>Credit Card</td>\n",
       "      <td>2.5</td>\n",
       "      <td>7.165589</td>\n",
       "      <td>0.0</td>\n",
       "      <td>1.0</td>\n",
       "      <td>20.64</td>\n",
       "      <td>2.5</td>\n",
       "      <td>0.0</td>\n",
       "    </tr>\n",
       "    <tr>\n",
       "      <th>1</th>\n",
       "      <td>0</td>\n",
       "      <td>2023-06-29 23:05:01</td>\n",
       "      <td>2023-06-29 22:01:35</td>\n",
       "      <td>1.0</td>\n",
       "      <td>2.70</td>\n",
       "      <td>1.0</td>\n",
       "      <td>N</td>\n",
       "      <td>15</td>\n",
       "      <td>215</td>\n",
       "      <td>Credit Card</td>\n",
       "      <td>3.5</td>\n",
       "      <td>6.067401</td>\n",
       "      <td>0.0</td>\n",
       "      <td>1.0</td>\n",
       "      <td>25.55</td>\n",
       "      <td>2.5</td>\n",
       "      <td>0.0</td>\n",
       "    </tr>\n",
       "    <tr>\n",
       "      <th>2</th>\n",
       "      <td>1</td>\n",
       "      <td>2023-06-30 10:19:31</td>\n",
       "      <td>2023-06-30 11:13:10</td>\n",
       "      <td>1.0</td>\n",
       "      <td>1.15</td>\n",
       "      <td>1.0</td>\n",
       "      <td>N</td>\n",
       "      <td>167</td>\n",
       "      <td>223</td>\n",
       "      <td>Credit Card</td>\n",
       "      <td>0.0</td>\n",
       "      <td>4.111547</td>\n",
       "      <td>0.0</td>\n",
       "      <td>1.0</td>\n",
       "      <td>17.64</td>\n",
       "      <td>2.5</td>\n",
       "      <td>0.0</td>\n",
       "    </tr>\n",
       "    <tr>\n",
       "      <th>3</th>\n",
       "      <td>0</td>\n",
       "      <td>2023-06-29 13:23:09</td>\n",
       "      <td>2023-06-29 14:20:01</td>\n",
       "      <td>1.0</td>\n",
       "      <td>0.40</td>\n",
       "      <td>1.0</td>\n",
       "      <td>N</td>\n",
       "      <td>128</td>\n",
       "      <td>239</td>\n",
       "      <td>Credit Card</td>\n",
       "      <td>2.5</td>\n",
       "      <td>6.411079</td>\n",
       "      <td>0.0</td>\n",
       "      <td>1.0</td>\n",
       "      <td>12.80</td>\n",
       "      <td>2.5</td>\n",
       "      <td>0.0</td>\n",
       "    </tr>\n",
       "    <tr>\n",
       "      <th>4</th>\n",
       "      <td>1</td>\n",
       "      <td>2023-06-29 22:03:32</td>\n",
       "      <td>2023-06-29 22:22:22</td>\n",
       "      <td>3.0</td>\n",
       "      <td>1.10</td>\n",
       "      <td>1.0</td>\n",
       "      <td>N</td>\n",
       "      <td>203</td>\n",
       "      <td>52</td>\n",
       "      <td>Credit Card</td>\n",
       "      <td>1.0</td>\n",
       "      <td>4.769377</td>\n",
       "      <td>0.0</td>\n",
       "      <td>1.0</td>\n",
       "      <td>18.00</td>\n",
       "      <td>2.5</td>\n",
       "      <td>0.0</td>\n",
       "    </tr>\n",
       "    <tr>\n",
       "      <th>5</th>\n",
       "      <td>0</td>\n",
       "      <td>2023-06-29 16:31:14</td>\n",
       "      <td>2023-06-29 16:29:06</td>\n",
       "      <td>1.0</td>\n",
       "      <td>0.00</td>\n",
       "      <td>99.0</td>\n",
       "      <td>N</td>\n",
       "      <td>225</td>\n",
       "      <td>256</td>\n",
       "      <td>Credit Card</td>\n",
       "      <td>0.0</td>\n",
       "      <td>1.507831</td>\n",
       "      <td>0.0</td>\n",
       "      <td>1.0</td>\n",
       "      <td>44.70</td>\n",
       "      <td>0.0</td>\n",
       "      <td>0.0</td>\n",
       "    </tr>\n",
       "    <tr>\n",
       "      <th>6</th>\n",
       "      <td>1</td>\n",
       "      <td>2023-06-30 12:54:57</td>\n",
       "      <td>2023-06-30 11:52:20</td>\n",
       "      <td>1.0</td>\n",
       "      <td>1.33</td>\n",
       "      <td>1.0</td>\n",
       "      <td>N</td>\n",
       "      <td>214</td>\n",
       "      <td>240</td>\n",
       "      <td>Cash</td>\n",
       "      <td>0.0</td>\n",
       "      <td>0.094334</td>\n",
       "      <td>0.0</td>\n",
       "      <td>1.0</td>\n",
       "      <td>18.20</td>\n",
       "      <td>2.5</td>\n",
       "      <td>0.0</td>\n",
       "    </tr>\n",
       "    <tr>\n",
       "      <th>7</th>\n",
       "      <td>1</td>\n",
       "      <td>2023-06-30 17:16:44</td>\n",
       "      <td>2023-06-30 17:40:34</td>\n",
       "      <td>1.0</td>\n",
       "      <td>0.45</td>\n",
       "      <td>1.0</td>\n",
       "      <td>N</td>\n",
       "      <td>176</td>\n",
       "      <td>227</td>\n",
       "      <td>Cash</td>\n",
       "      <td>2.5</td>\n",
       "      <td>0.727105</td>\n",
       "      <td>0.0</td>\n",
       "      <td>1.0</td>\n",
       "      <td>13.70</td>\n",
       "      <td>2.5</td>\n",
       "      <td>0.0</td>\n",
       "    </tr>\n",
       "    <tr>\n",
       "      <th>8</th>\n",
       "      <td>0</td>\n",
       "      <td>2023-06-30 21:52:44</td>\n",
       "      <td>2023-06-30 21:54:13</td>\n",
       "      <td>3.0</td>\n",
       "      <td>3.80</td>\n",
       "      <td>1.0</td>\n",
       "      <td>N</td>\n",
       "      <td>196</td>\n",
       "      <td>139</td>\n",
       "      <td>Credit Card</td>\n",
       "      <td>3.5</td>\n",
       "      <td>6.590745</td>\n",
       "      <td>0.0</td>\n",
       "      <td>1.0</td>\n",
       "      <td>35.60</td>\n",
       "      <td>2.5</td>\n",
       "      <td>0.0</td>\n",
       "    </tr>\n",
       "    <tr>\n",
       "      <th>9</th>\n",
       "      <td>1</td>\n",
       "      <td>2023-06-29 11:12:12</td>\n",
       "      <td>2023-06-29 09:39:24</td>\n",
       "      <td>1.0</td>\n",
       "      <td>2.50</td>\n",
       "      <td>1.0</td>\n",
       "      <td>N</td>\n",
       "      <td>138</td>\n",
       "      <td>196</td>\n",
       "      <td>Credit Card</td>\n",
       "      <td>0.0</td>\n",
       "      <td>6.091603</td>\n",
       "      <td>0.0</td>\n",
       "      <td>1.0</td>\n",
       "      <td>23.10</td>\n",
       "      <td>2.5</td>\n",
       "      <td>0.0</td>\n",
       "    </tr>\n",
       "  </tbody>\n",
       "</table>\n",
       "</div>"
      ],
      "text/plain": [
       "   VendorID tpep_pickup_datetime tpep_dropoff_datetime  passenger_count  \\\n",
       "0         1  2023-06-28 17:20:21   2023-06-28 16:34:45              1.0   \n",
       "1         0  2023-06-29 23:05:01   2023-06-29 22:01:35              1.0   \n",
       "2         1  2023-06-30 10:19:31   2023-06-30 11:13:10              1.0   \n",
       "3         0  2023-06-29 13:23:09   2023-06-29 14:20:01              1.0   \n",
       "4         1  2023-06-29 22:03:32   2023-06-29 22:22:22              3.0   \n",
       "5         0  2023-06-29 16:31:14   2023-06-29 16:29:06              1.0   \n",
       "6         1  2023-06-30 12:54:57   2023-06-30 11:52:20              1.0   \n",
       "7         1  2023-06-30 17:16:44   2023-06-30 17:40:34              1.0   \n",
       "8         0  2023-06-30 21:52:44   2023-06-30 21:54:13              3.0   \n",
       "9         1  2023-06-29 11:12:12   2023-06-29 09:39:24              1.0   \n",
       "\n",
       "   trip_distance  RatecodeID store_and_fwd_flag  PULocationID  DOLocationID  \\\n",
       "0           2.14         1.0                  N           120             9   \n",
       "1           2.70         1.0                  N            15           215   \n",
       "2           1.15         1.0                  N           167           223   \n",
       "3           0.40         1.0                  N           128           239   \n",
       "4           1.10         1.0                  N           203            52   \n",
       "5           0.00        99.0                  N           225           256   \n",
       "6           1.33         1.0                  N           214           240   \n",
       "7           0.45         1.0                  N           176           227   \n",
       "8           3.80         1.0                  N           196           139   \n",
       "9           2.50         1.0                  N           138           196   \n",
       "\n",
       "  payment_type  extra  tip_amount  tolls_amount  improvement_surcharge  \\\n",
       "0  Credit Card    2.5    7.165589           0.0                    1.0   \n",
       "1  Credit Card    3.5    6.067401           0.0                    1.0   \n",
       "2  Credit Card    0.0    4.111547           0.0                    1.0   \n",
       "3  Credit Card    2.5    6.411079           0.0                    1.0   \n",
       "4  Credit Card    1.0    4.769377           0.0                    1.0   \n",
       "5  Credit Card    0.0    1.507831           0.0                    1.0   \n",
       "6         Cash    0.0    0.094334           0.0                    1.0   \n",
       "7         Cash    2.5    0.727105           0.0                    1.0   \n",
       "8  Credit Card    3.5    6.590745           0.0                    1.0   \n",
       "9  Credit Card    0.0    6.091603           0.0                    1.0   \n",
       "\n",
       "   total_amount  congestion_surcharge  Airport_fee  \n",
       "0         20.64                   2.5          0.0  \n",
       "1         25.55                   2.5          0.0  \n",
       "2         17.64                   2.5          0.0  \n",
       "3         12.80                   2.5          0.0  \n",
       "4         18.00                   2.5          0.0  \n",
       "5         44.70                   0.0          0.0  \n",
       "6         18.20                   2.5          0.0  \n",
       "7         13.70                   2.5          0.0  \n",
       "8         35.60                   2.5          0.0  \n",
       "9         23.10                   2.5          0.0  "
      ]
     },
     "execution_count": 6,
     "metadata": {},
     "output_type": "execute_result"
    }
   ],
   "source": [
    "# Print top 10 rows to visualize the dataset\n",
    "data.head(10)"
   ]
  },
  {
   "cell_type": "markdown",
   "id": "4757a3d5",
   "metadata": {
    "papermill": {
     "duration": 0.011118,
     "end_time": "2023-11-30T17:08:36.661394",
     "exception": false,
     "start_time": "2023-11-30T17:08:36.650276",
     "status": "completed"
    },
    "tags": []
   },
   "source": [
    "# **Exploratory Data Analysis (EDA)**\n",
    "Perform following steps for data analysis\n",
    "1. Total number of features and data samples in the train dataset\n",
    "2. Identify number of Numeric and Categorical features\n",
    "3. Correlation between numeric features and plot data distribution for each feature\n",
    "4. Features with missing values"
   ]
  },
  {
   "cell_type": "code",
   "execution_count": 7,
   "id": "7d0c308c",
   "metadata": {
    "execution": {
     "iopub.execute_input": "2023-11-30T17:08:36.687114Z",
     "iopub.status.busy": "2023-11-30T17:08:36.686450Z",
     "iopub.status.idle": "2023-11-30T17:08:36.785108Z",
     "shell.execute_reply": "2023-11-30T17:08:36.783913Z"
    },
    "papermill": {
     "duration": 0.114079,
     "end_time": "2023-11-30T17:08:36.787375",
     "exception": false,
     "start_time": "2023-11-30T17:08:36.673296",
     "status": "completed"
    },
    "tags": []
   },
   "outputs": [
    {
     "name": "stdout",
     "output_type": "stream",
     "text": [
      "Training dataset has 175000 samples and 17 features\n",
      "\n",
      "Test dataset has 50000 samples and 16 features\n",
      "\n",
      "Following features in the dataset are Numeric:\n",
      " Index(['VendorID', 'passenger_count', 'trip_distance', 'RatecodeID',\n",
      "       'PULocationID', 'DOLocationID', 'extra', 'tip_amount', 'tolls_amount',\n",
      "       'improvement_surcharge', 'total_amount', 'congestion_surcharge',\n",
      "       'Airport_fee'],\n",
      "      dtype='object')\n",
      "\n",
      "Following features in the dataset are Categorical:\n",
      " Index(['tpep_pickup_datetime', 'tpep_dropoff_datetime', 'store_and_fwd_flag',\n",
      "       'payment_type'],\n",
      "      dtype='object')\n",
      "\n",
      "Following features in the dataset have missing values Index(['passenger_count', 'RatecodeID', 'store_and_fwd_flag',\n",
      "       'congestion_surcharge', 'Airport_fee'],\n",
      "      dtype='object')\n",
      "\n"
     ]
    }
   ],
   "source": [
    "# Total number of Features and Data Samples in the Train & Test dataset\n",
    "\n",
    "print(\"Training dataset has {} samples and {} features\\n\" .format(data.shape[0], data.shape[1]))\n",
    "print(\"Test dataset has {} samples and {} features\\n\" .format(test.shape[0], test.shape[1]))\n",
    "\n",
    "# Separate our Numeric and Categorical Features\n",
    "print(\"Following features in the dataset are Numeric:\\n {}\\n\".format(data.select_dtypes(include=['number']).columns))\n",
    "print(\"Following features in the dataset are Categorical:\\n {}\\n\".format(data.select_dtypes(include=['object']).columns))\n",
    "\n",
    "#Identify all the Features with missing values\n",
    "# print(data.isna().sum() != 0)\n",
    "print(\"Following features in the dataset have missing values {}\\n\".format(data.columns[data.isnull().any()]))"
   ]
  },
  {
   "cell_type": "code",
   "execution_count": 8,
   "id": "10218836",
   "metadata": {
    "execution": {
     "iopub.execute_input": "2023-11-30T17:08:36.812715Z",
     "iopub.status.busy": "2023-11-30T17:08:36.812061Z",
     "iopub.status.idle": "2023-11-30T17:08:36.960296Z",
     "shell.execute_reply": "2023-11-30T17:08:36.958998Z"
    },
    "papermill": {
     "duration": 0.164117,
     "end_time": "2023-11-30T17:08:36.962984",
     "exception": false,
     "start_time": "2023-11-30T17:08:36.798867",
     "status": "completed"
    },
    "tags": []
   },
   "outputs": [
    {
     "name": "stdout",
     "output_type": "stream",
     "text": [
      "            VendorID  passenger_count  trip_distance     RatecodeID  \\\n",
      "count  175000.000000    168923.000000  175000.000000  168923.000000   \n",
      "mean        0.728377         1.357678       5.145930       1.518307   \n",
      "std         0.445606         0.891283     394.971052       6.514678   \n",
      "min         0.000000         0.000000       0.000000       1.000000   \n",
      "25%         0.000000         1.000000       1.080000       1.000000   \n",
      "50%         1.000000         1.000000       1.840000       1.000000   \n",
      "75%         1.000000         1.000000       3.610000       1.000000   \n",
      "max         2.000000         9.000000  135182.060000      99.000000   \n",
      "\n",
      "        PULocationID   DOLocationID          extra     tip_amount  \\\n",
      "count  175000.000000  175000.000000  175000.000000  175000.000000   \n",
      "mean      132.710349     132.701429       1.932143       6.127497   \n",
      "std        76.148799      76.192493       1.948497       4.610834   \n",
      "min         1.000000       1.000000      -7.500000       0.000079   \n",
      "25%        67.000000      67.000000       0.000000       3.473321   \n",
      "50%       133.000000     133.000000       1.000000       5.286217   \n",
      "75%       199.000000     199.000000       2.500000       7.502746   \n",
      "max       264.000000     264.000000      11.750000     484.876151   \n",
      "\n",
      "        tolls_amount  improvement_surcharge   total_amount  \\\n",
      "count  175000.000000          175000.000000  175000.000000   \n",
      "mean        0.646816               0.979689      29.633901   \n",
      "std         2.328274               0.198775      25.425206   \n",
      "min       -29.300000              -1.000000    -576.750000   \n",
      "25%         0.000000               1.000000      16.300000   \n",
      "50%         0.000000               1.000000      21.450000   \n",
      "75%         0.000000               1.000000      31.800000   \n",
      "max        80.000000               1.000000     587.250000   \n",
      "\n",
      "       congestion_surcharge    Airport_fee  \n",
      "count         168923.000000  168923.000000  \n",
      "mean               2.246971       0.158825  \n",
      "std                0.819216       0.511968  \n",
      "min               -2.500000      -1.750000  \n",
      "25%                2.500000       0.000000  \n",
      "50%                2.500000       0.000000  \n",
      "75%                2.500000       0.000000  \n",
      "max                2.500000       1.750000  \n"
     ]
    }
   ],
   "source": [
    "# Descriptive statistics for continuous attributes\n",
    "\n",
    "print(data[['VendorID', 'passenger_count', 'trip_distance', 'RatecodeID',\n",
    "       'PULocationID', 'DOLocationID', 'extra', 'tip_amount', 'tolls_amount',\n",
    "       'improvement_surcharge', 'total_amount', 'congestion_surcharge',\n",
    "       'Airport_fee']].describe())"
   ]
  },
  {
   "cell_type": "code",
   "execution_count": 9,
   "id": "a7fc6c07",
   "metadata": {
    "execution": {
     "iopub.execute_input": "2023-11-30T17:08:36.989784Z",
     "iopub.status.busy": "2023-11-30T17:08:36.989012Z",
     "iopub.status.idle": "2023-11-30T17:08:41.181158Z",
     "shell.execute_reply": "2023-11-30T17:08:41.180240Z"
    },
    "papermill": {
     "duration": 4.209269,
     "end_time": "2023-11-30T17:08:41.184658",
     "exception": false,
     "start_time": "2023-11-30T17:08:36.975389",
     "status": "completed"
    },
    "tags": []
   },
   "outputs": [
    {
     "data": {
      "image/png": "[encoded data removed]",
      "text/plain": [
       "<Figure size 640x480 with 2 Axes>"
      ]
     },
     "metadata": {},
     "output_type": "display_data"
    },
    {
     "data": {
      "image/png": "[encoded data removed]",
      "text/plain": [
       "<Figure size 2000x1500 with 16 Axes>"
      ]
     },
     "metadata": {},
     "output_type": "display_data"
    }
   ],
   "source": [
    "# Identify Correlation between numeric features and plot data distribution for each feature\n",
    "\n",
    "sns.heatmap(data.corr(numeric_only=True))\n",
    "data.hist(bins=40, figsize=(20,15)) \n",
    "plt.show()"
   ]
  },
  {
   "cell_type": "markdown",
   "id": "ad2b02e0",
   "metadata": {
    "papermill": {
     "duration": 0.015001,
     "end_time": "2023-11-30T17:08:41.215362",
     "exception": false,
     "start_time": "2023-11-30T17:08:41.200361",
     "status": "completed"
    },
    "tags": []
   },
   "source": [
    "# **FEATURE ENGINEERING**"
   ]
  },
  {
   "cell_type": "code",
   "execution_count": 10,
   "id": "0e85655c",
   "metadata": {
    "execution": {
     "iopub.execute_input": "2023-11-30T17:08:41.247393Z",
     "iopub.status.busy": "2023-11-30T17:08:41.246949Z",
     "iopub.status.idle": "2023-11-30T17:08:41.259920Z",
     "shell.execute_reply": "2023-11-30T17:08:41.258888Z"
    },
    "papermill": {
     "duration": 0.032106,
     "end_time": "2023-11-30T17:08:41.262425",
     "exception": false,
     "start_time": "2023-11-30T17:08:41.230319",
     "status": "completed"
    },
    "tags": []
   },
   "outputs": [],
   "source": [
    "# '''Define a function to cleanse and prepare traind/test dataset for preprocessing and eventual model training'''\n",
    "\n",
    "def cleanse(df):\n",
    "    \n",
    "#     ''' As part of below steps, translate pickup and dropoff to datetime datatype. Subsequently, perform\n",
    "#      feature engineering and generate 3 new features: trip duration, trip day and trip hour'''\n",
    "    \n",
    "    df['tpep_pickup_datetime'] = pd.to_datetime(df['tpep_pickup_datetime'])\n",
    "    df['tpep_dropoff_datetime'] = pd.to_datetime(df['tpep_dropoff_datetime'])\n",
    "    df['tpep_duration'] = np.abs((df['tpep_dropoff_datetime'] - df['tpep_pickup_datetime'])/np.timedelta64(1,'m'))\n",
    "    df['tpep_day_of_week'] = df['tpep_pickup_datetime'].dt.dayofweek\n",
    "    df['tpep_hour'] = np.where((df['tpep_pickup_datetime'].dt.hour < df['tpep_dropoff_datetime'].dt.hour), \n",
    "                               df['tpep_pickup_datetime'].dt.hour,df['tpep_dropoff_datetime'].dt.hour)\n",
    "    \n",
    "#     ''' convert -ve $ amounts using numpy absolute method to ensure consistent model learning'''\n",
    "    \n",
    "    df.extra = np.abs(df.extra)\n",
    "    df.tolls_amount = np.abs(df.tolls_amount)\n",
    "    df.improvement_surcharge = np.abs(df.improvement_surcharge)\n",
    "    df.congestion_surcharge = np.abs(df.congestion_surcharge)\n",
    "    df.Airport_fee = np.abs(df.Airport_fee)\n",
    "\n",
    "#     '''feature engineering to supress impact of outliers in payment_type, VendorID, and passenger_count features'''\n",
    "    \n",
    "    df.loc[df.payment_type == 'Wallet', 'payment_type'] = 'unknown'\n",
    "    df.loc[df.VendorID == 2, 'VendorID'] = 0\n",
    "    df.loc[(df.passenger_count == 0) | (df.passenger_count > 6), 'passenger_count'] = 1\n",
    "    df.loc[df.passenger_count.isnull(), 'passenger_count'] = 1\n",
    "#     df.loc[(df.trip_distance > 200),'trip_distance'] = np.mean(df.loc[(df.trip_distance <= 200)].trip_distance)\n",
    "\n",
    "        \n",
    "#     '''drop features with least importance. Note that these features have been identified based on correlation and feature improtance\n",
    "#     from regression techniques'''\n",
    "    \n",
    "    df = df.drop([ 'tpep_pickup_datetime','tpep_dropoff_datetime',\n",
    "                  'PULocationID', 'DOLocationID',\n",
    "                  'store_and_fwd_flag'], axis=1)\n",
    "    \n",
    "    return df\n",
    "    "
   ]
  },
  {
   "cell_type": "markdown",
   "id": "95a42555",
   "metadata": {
    "papermill": {
     "duration": 0.014838,
     "end_time": "2023-11-30T17:08:41.292217",
     "exception": false,
     "start_time": "2023-11-30T17:08:41.277379",
     "status": "completed"
    },
    "tags": []
   },
   "source": [
    "# Dataset Cleaning, Feature/Label Matrix Creation, Test-Train Split & Pipeline Preprocessing"
   ]
  },
  {
   "cell_type": "code",
   "execution_count": 11,
   "id": "360f4cd0",
   "metadata": {
    "execution": {
     "iopub.execute_input": "2023-11-30T17:08:41.324507Z",
     "iopub.status.busy": "2023-11-30T17:08:41.324070Z",
     "iopub.status.idle": "2023-11-30T17:08:41.647497Z",
     "shell.execute_reply": "2023-11-30T17:08:41.646362Z"
    },
    "papermill": {
     "duration": 0.343081,
     "end_time": "2023-11-30T17:08:41.650420",
     "exception": false,
     "start_time": "2023-11-30T17:08:41.307339",
     "status": "completed"
    },
    "tags": []
   },
   "outputs": [],
   "source": [
    "# Clean the train dataset using defined cleanse function, and separate train (X) & label (y) from the dataframe\n",
    "\n",
    "data = cleanse(data)\n",
    "# data = data.loc[(data.trip_distance <= 200)].reset_index(drop=True)\n",
    "data.total_amount = np.abs(data.total_amount)\n",
    "X, y = data.drop(['total_amount'], axis=1), data.total_amount"
   ]
  },
  {
   "cell_type": "code",
   "execution_count": 12,
   "id": "1dc8383a",
   "metadata": {
    "execution": {
     "iopub.execute_input": "2023-11-30T17:08:41.682874Z",
     "iopub.status.busy": "2023-11-30T17:08:41.682475Z",
     "iopub.status.idle": "2023-11-30T17:08:41.755973Z",
     "shell.execute_reply": "2023-11-30T17:08:41.754499Z"
    },
    "papermill": {
     "duration": 0.093089,
     "end_time": "2023-11-30T17:08:41.758682",
     "exception": false,
     "start_time": "2023-11-30T17:08:41.665593",
     "status": "completed"
    },
    "tags": []
   },
   "outputs": [
    {
     "name": "stdout",
     "output_type": "stream",
     "text": [
      "Shape of Train dataset (140000, 14)\n",
      "Shape of Validation dataset (35000, 14)\n",
      "Shape of Train Label dataset (140000,)\n",
      "Shape of Validation Label dataset (35000,)\n"
     ]
    }
   ],
   "source": [
    "# Split dataset into train & test datasets with test size of 0.20 % and publish their shapes\n",
    "\n",
    "X_train, X_val, y_train, y_val = train_test_split(X, y, test_size=0.20, random_state=42)\n",
    "\n",
    "print(\"Shape of Train dataset {}\".format(X_train.shape), \"Shape of Validation dataset {}\".format(X_val.shape),\n",
    "     \"Shape of Train Label dataset {}\".format(y_train.shape), \"Shape of Validation Label dataset {}\".format(y_val.shape), \n",
    "      sep = '\\n')"
   ]
  },
  {
   "cell_type": "code",
   "execution_count": 13,
   "id": "06c41994",
   "metadata": {
    "execution": {
     "iopub.execute_input": "2023-11-30T17:08:41.790876Z",
     "iopub.status.busy": "2023-11-30T17:08:41.790456Z",
     "iopub.status.idle": "2023-11-30T17:08:41.799314Z",
     "shell.execute_reply": "2023-11-30T17:08:41.798226Z"
    },
    "papermill": {
     "duration": 0.027692,
     "end_time": "2023-11-30T17:08:41.801584",
     "exception": false,
     "start_time": "2023-11-30T17:08:41.773892",
     "status": "completed"
    },
    "tags": []
   },
   "outputs": [],
   "source": [
    "# Define separate pipelines for preprocesing Categorical & Numeric Variables.\n",
    "\n",
    "# Categorical Pipeline uses Column Transformer (to collect all Categorical Features)\n",
    "# SimpleImputer (to impute missing values using 'most_frequent' strategy)\n",
    "# OneHotEncoder (to encode Categorical Features)\n",
    "# Subsequently, use Feature Union to combine and create final training dataset\n",
    "\n",
    "cat_pipeline = Pipeline([\n",
    "    ('selector',ColumnTransformer([(\"passthrough\", 'passthrough', ['VendorID', 'payment_type','RatecodeID',])])),\n",
    "    (\"impute\", SimpleImputer(strategy='most_frequent')),\n",
    "    ('encoder', OneHotEncoder(handle_unknown='ignore')),\n",
    "])\n",
    "\n",
    "# Numeric Pipeline uses Column Transformer (to collect all Numeric Features)\n",
    "# SimpleImputer (to impute missing values using 'mean' strategy) \n",
    "# StandardScaler (to scale Numeric Features)\n",
    "\n",
    "\n",
    "num_pipeline = Pipeline([\n",
    "    ('selector',ColumnTransformer([('numeric','passthrough',[ 'passenger_count','trip_distance','extra', 'tip_amount', 'tolls_amount',\n",
    "    'improvement_surcharge','congestion_surcharge','Airport_fee','tpep_duration','tpep_hour','tpep_day_of_week'])])),\n",
    "    ('imputer', SimpleImputer(strategy='mean')),\n",
    "    ('std_scaler', StandardScaler()),\n",
    "])\n",
    "\n",
    "# Feature Union to combine and create final transformed dataset\n",
    "\n",
    "full_pipeline = FeatureUnion(transformer_list=[(\"num_pipeline\", num_pipeline),(\"cat_pipeline\", cat_pipeline)])"
   ]
  },
  {
   "cell_type": "code",
   "execution_count": 14,
   "id": "b3aa7f4a",
   "metadata": {
    "execution": {
     "iopub.execute_input": "2023-11-30T17:08:41.835097Z",
     "iopub.status.busy": "2023-11-30T17:08:41.833849Z",
     "iopub.status.idle": "2023-11-30T17:08:42.432695Z",
     "shell.execute_reply": "2023-11-30T17:08:42.431820Z"
    },
    "papermill": {
     "duration": 0.617853,
     "end_time": "2023-11-30T17:08:42.434937",
     "exception": false,
     "start_time": "2023-11-30T17:08:41.817084",
     "status": "completed"
    },
    "tags": []
   },
   "outputs": [
    {
     "data": {
      "text/plain": [
       "array(['num_pipeline__numeric__passenger_count',\n",
       "       'num_pipeline__numeric__trip_distance',\n",
       "       'num_pipeline__numeric__extra',\n",
       "       'num_pipeline__numeric__tip_amount',\n",
       "       'num_pipeline__numeric__tolls_amount',\n",
       "       'num_pipeline__numeric__improvement_surcharge',\n",
       "       'num_pipeline__numeric__congestion_surcharge',\n",
       "       'num_pipeline__numeric__Airport_fee',\n",
       "       'num_pipeline__numeric__tpep_duration',\n",
       "       'num_pipeline__numeric__tpep_hour',\n",
       "       'num_pipeline__numeric__tpep_day_of_week',\n",
       "       'cat_pipeline__passthrough__VendorID_0',\n",
       "       'cat_pipeline__passthrough__VendorID_1',\n",
       "       'cat_pipeline__passthrough__payment_type_Cash',\n",
       "       'cat_pipeline__passthrough__payment_type_Credit Card',\n",
       "       'cat_pipeline__passthrough__payment_type_UPI',\n",
       "       'cat_pipeline__passthrough__payment_type_unknown',\n",
       "       'cat_pipeline__passthrough__RatecodeID_1.0',\n",
       "       'cat_pipeline__passthrough__RatecodeID_2.0',\n",
       "       'cat_pipeline__passthrough__RatecodeID_3.0',\n",
       "       'cat_pipeline__passthrough__RatecodeID_4.0',\n",
       "       'cat_pipeline__passthrough__RatecodeID_5.0',\n",
       "       'cat_pipeline__passthrough__RatecodeID_99.0'], dtype=object)"
      ]
     },
     "execution_count": 14,
     "metadata": {},
     "output_type": "execute_result"
    }
   ],
   "source": [
    "# Apply preprocessing to both Train & Validation datasets, and publish names of final set of features\n",
    "\n",
    "X_train_tr = full_pipeline.fit_transform(X_train)\n",
    "X_val_tr = full_pipeline.transform(X_val)\n",
    "full_pipeline.get_feature_names_out()"
   ]
  },
  {
   "cell_type": "code",
   "execution_count": 15,
   "id": "bcd5a862",
   "metadata": {
    "execution": {
     "iopub.execute_input": "2023-11-30T17:08:42.468312Z",
     "iopub.status.busy": "2023-11-30T17:08:42.467579Z",
     "iopub.status.idle": "2023-11-30T17:08:42.474134Z",
     "shell.execute_reply": "2023-11-30T17:08:42.472806Z"
    },
    "papermill": {
     "duration": 0.025933,
     "end_time": "2023-11-30T17:08:42.476615",
     "exception": false,
     "start_time": "2023-11-30T17:08:42.450682",
     "status": "completed"
    },
    "tags": []
   },
   "outputs": [
    {
     "name": "stdout",
     "output_type": "stream",
     "text": [
      "Shape of transformed Train dataset (140000, 23)\n",
      "Shape of transformed Validation dataset (35000, 23)\n"
     ]
    }
   ],
   "source": [
    "# publish the shapes of Transformed Train & Validation datasets\n",
    "\n",
    "print(\"Shape of transformed Train dataset {}\".format(X_train_tr.shape), \n",
    "      \"Shape of transformed Validation dataset {}\".format(X_val_tr.shape), \n",
    "      sep = '\\n')"
   ]
  },
  {
   "cell_type": "markdown",
   "id": "7127fa67",
   "metadata": {
    "papermill": {
     "duration": 0.015381,
     "end_time": "2023-11-30T17:08:42.507088",
     "exception": false,
     "start_time": "2023-11-30T17:08:42.491707",
     "status": "completed"
    },
    "tags": []
   },
   "source": [
    "# LINEAR REGRESSION"
   ]
  },
  {
   "cell_type": "code",
   "execution_count": 16,
   "id": "e59c79ae",
   "metadata": {
    "execution": {
     "iopub.execute_input": "2023-11-30T17:08:42.540887Z",
     "iopub.status.busy": "2023-11-30T17:08:42.540484Z",
     "iopub.status.idle": "2023-11-30T17:08:43.108197Z",
     "shell.execute_reply": "2023-11-30T17:08:43.106681Z"
    },
    "papermill": {
     "duration": 0.589658,
     "end_time": "2023-11-30T17:08:43.112945",
     "exception": false,
     "start_time": "2023-11-30T17:08:42.523287",
     "status": "completed"
    },
    "tags": []
   },
   "outputs": [
    {
     "name": "stdout",
     "output_type": "stream",
     "text": [
      "Training Scores: 0.7708910880080713\n",
      "Validation Score: 0.7710186477560617\n",
      "RMSE Training: 11.845829390153758\n",
      "RMSE Validation: 11.888590375359021\n"
     ]
    }
   ],
   "source": [
    "# Instantiate and fit LinearRegression using transformed Train dataset\n",
    "\n",
    "lr = LinearRegression(fit_intercept=True)\n",
    "\n",
    "lr.fit(X_train_tr, y_train)\n",
    "\n",
    "#  Compute RMSE & Score (Training & Validation) scores for the LinearRegression object\n",
    "\n",
    "train.append(('lr', lr.score(X_train_tr, y_train)))\n",
    "val.append(('lr', lr.score(X_val_tr, y_val)))\n",
    "\n",
    "print(\"Training Scores:\",lr.score(X_train_tr, y_train))\n",
    "print(\"Validation Score:\",lr.score(X_val_tr, y_val))\n",
    "print(\"RMSE Training:\",np.sqrt(mean_squared_error(y_train, lr.predict(X_train_tr))))\n",
    "print(\"RMSE Validation:\",np.sqrt(mean_squared_error(y_val, lr.predict(X_val_tr))))"
   ]
  },
  {
   "cell_type": "code",
   "execution_count": 17,
   "id": "5c757b99",
   "metadata": {
    "execution": {
     "iopub.execute_input": "2023-11-30T17:08:43.179086Z",
     "iopub.status.busy": "2023-11-30T17:08:43.178637Z",
     "iopub.status.idle": "2023-11-30T17:08:48.534345Z",
     "shell.execute_reply": "2023-11-30T17:08:48.532720Z"
    },
    "papermill": {
     "duration": 5.392905,
     "end_time": "2023-11-30T17:08:48.539710",
     "exception": false,
     "start_time": "2023-11-30T17:08:43.146805",
     "status": "completed"
    },
    "tags": []
   },
   "outputs": [
    {
     "name": "stdout",
     "output_type": "stream",
     "text": [
      "RMSE for 0th fold: 11.827201401059797\n",
      "RMSE for 1th fold: 11.841478858573868\n",
      "RMSE for 2th fold: 11.884797574941356\n",
      "RMSE for 3th fold: 11.803267240528415\n",
      "RMSE for 4th fold: 11.960453593549873\n",
      "RMSE for 5th fold: 11.885028706977524\n",
      "RMSE for 6th fold: 11.96544947252585\n",
      "RMSE for 7th fold: 11.776913374180664\n",
      "RMSE for 8th fold: 11.73182193884548\n",
      "RMSE for 9th fold: 11.762303267459757\n",
      "Mean RMSE across all folds: 11.84387154286426\n",
      "Standard deviation: 0.07574010917806315\n"
     ]
    }
   ],
   "source": [
    "# Perform 10 Fold Cross Validation with neg_mean_squared_error as scoring mechanism\n",
    "\n",
    "cv_lr = cross_validate(lr, X_train_tr, y_train, scoring=\"neg_mean_squared_error\", cv=10, \n",
    "                       return_train_score=True, return_estimator=True)\n",
    "\n",
    "cv_lr_rmse = np.sqrt(-cv_lr['train_score'])\n",
    "\n",
    "#Print RMSE for each fold, along wit Mean RMSE & Standard Deviation\n",
    "\n",
    "for i in range(len(cv_lr_rmse)):\n",
    "    print(f\"RMSE for {i}th fold: {cv_lr_rmse[i]}\")\n",
    "    \n",
    "print(\"Mean RMSE across all folds:\", cv_lr_rmse.mean())\n",
    "\n",
    "print(\"Standard deviation:\", cv_lr_rmse.std())"
   ]
  },
  {
   "cell_type": "code",
   "execution_count": 18,
   "id": "b6438d20",
   "metadata": {
    "execution": {
     "iopub.execute_input": "2023-11-30T17:08:48.637080Z",
     "iopub.status.busy": "2023-11-30T17:08:48.636684Z",
     "iopub.status.idle": "2023-11-30T17:08:48.647076Z",
     "shell.execute_reply": "2023-11-30T17:08:48.645342Z"
    },
    "papermill": {
     "duration": 0.06029,
     "end_time": "2023-11-30T17:08:48.650326",
     "exception": false,
     "start_time": "2023-11-30T17:08:48.590036",
     "status": "completed"
    },
    "tags": []
   },
   "outputs": [
    {
     "data": {
      "text/plain": [
       "(array([ 1.91470251e-01,  3.41431153e-02,  1.78367257e+00,  8.76518863e+00,\n",
       "         7.73574539e+00, -1.58278250e-01, -1.59066293e+00,  4.41188887e+00,\n",
       "         8.03966764e-01, -1.86726433e-01, -1.17407736e-01, -1.45158792e+00,\n",
       "         1.45158792e+00,  1.58917346e+00, -1.86193268e+00, -3.63044356e+00,\n",
       "         3.90320278e+00, -2.89507201e+01, -3.21405830e+00, -8.11413836e+00,\n",
       "         3.87839746e+01,  1.74793419e+01, -1.59843997e+01]),\n",
       " array([ 1.84047827e-01,  2.88123974e-02,  1.81033020e+00,  8.73878356e+00,\n",
       "         7.59834327e+00, -1.10998838e-01, -1.53090173e+00,  4.45246492e+00,\n",
       "         7.79615481e-01, -1.80959482e-01, -1.05930114e-01, -1.46811233e+00,\n",
       "         1.46811233e+00,  1.52461658e+00, -1.89678491e+00, -3.52591975e+00,\n",
       "         3.89808808e+00, -2.93899978e+01, -3.34806678e+00, -7.48161863e+00,\n",
       "         4.13182570e+01,  1.51434220e+01, -1.62419958e+01]))"
      ]
     },
     "execution_count": 18,
     "metadata": {},
     "output_type": "execute_result"
    }
   ],
   "source": [
    "# Publish coefficients of Linear Regression estimators for best estimator from Cross Validation & regular Linear Regression estimators\n",
    "\n",
    "lr.coef_, cv_lr['estimator'][8].coef_"
   ]
  },
  {
   "cell_type": "markdown",
   "id": "da9d48de",
   "metadata": {
    "papermill": {
     "duration": 0.027076,
     "end_time": "2023-11-30T17:08:48.700426",
     "exception": false,
     "start_time": "2023-11-30T17:08:48.673350",
     "status": "completed"
    },
    "tags": []
   },
   "source": [
    "# LIGHT GBM REGRESSOR WITH GRID SEARCH CROSS VALIDATION FOR HYPER PARAMATER TUNING"
   ]
  },
  {
   "cell_type": "code",
   "execution_count": 19,
   "id": "474c58e8",
   "metadata": {
    "execution": {
     "iopub.execute_input": "2023-11-30T17:08:48.740735Z",
     "iopub.status.busy": "2023-11-30T17:08:48.739562Z",
     "iopub.status.idle": "2023-11-30T17:08:48.746931Z",
     "shell.execute_reply": "2023-11-30T17:08:48.745504Z"
    },
    "papermill": {
     "duration": 0.026982,
     "end_time": "2023-11-30T17:08:48.749311",
     "exception": false,
     "start_time": "2023-11-30T17:08:48.722329",
     "status": "completed"
    },
    "tags": []
   },
   "outputs": [],
   "source": [
    "# # Initiate the instance of default instance Light GBM Regressor\n",
    "\n",
    "# lgbmr = LGBMRegressor(random_state = 42)\n",
    "\n",
    "# # Define the Param Dictonary for various combinations for which Hyperparameter tunning is needed\n",
    "\n",
    "# param_range = {\n",
    "#         'num_leaves': [50, 100, 150],\n",
    "#         'min_child_samples': [30, 50, 100],\n",
    "#         'Subsample': [0.7, 0.8, 0.9], \n",
    "#         'colsample_bytree': [0.7, 0.8, 0.9], \n",
    "#         'reg_alpha': [0, 1],\n",
    "#         'reg_lambda': [0, 1]\n",
    "#     }\n",
    "\n",
    "\n",
    "# # Run GridSeachCV with 5-fold Cross Validation to identify the Best parameters\n",
    "\n",
    "# lgbmr_gsv = GridSearchCV(\n",
    "#     estimator=lgbmr,\n",
    "#     param_grid=param_range,\n",
    "#     scoring = 'neg_root_mean_squared_error',\n",
    "#     n_jobs = -1,\n",
    "#     cv = 5,\n",
    "#     verbose=True\n",
    "# )\n",
    "\n",
    "# # Fit transformer to identify the best estimator and respective params for LGBMRegressor\n",
    "\n",
    "# lgbmr_gsv.fit(X_train_tr, y_train)\n",
    "\n",
    "# lgbmr_gsv.best_estimator_.get_params()"
   ]
  },
  {
   "cell_type": "code",
   "execution_count": 20,
   "id": "0324b20a",
   "metadata": {
    "execution": {
     "iopub.execute_input": "2023-11-30T17:08:48.784326Z",
     "iopub.status.busy": "2023-11-30T17:08:48.783278Z",
     "iopub.status.idle": "2023-11-30T17:08:56.004571Z",
     "shell.execute_reply": "2023-11-30T17:08:56.003610Z"
    },
    "papermill": {
     "duration": 7.241458,
     "end_time": "2023-11-30T17:08:56.006933",
     "exception": false,
     "start_time": "2023-11-30T17:08:48.765475",
     "status": "completed"
    },
    "tags": []
   },
   "outputs": [
    {
     "name": "stdout",
     "output_type": "stream",
     "text": [
      "Training Scores: 0.9547687724022039\n",
      "Validation Score: 0.9423749387821855\n",
      "RMSE Training: 5.263367195909743\n",
      "RMSE Validation: 5.963977626876335\n"
     ]
    }
   ],
   "source": [
    "# Initiate instance of Light GBM Regressor with Best Parameters from Hyper Tuning\n",
    "\n",
    "lgbmr = LGBMRegressor(subsample=0.7, colsample_bytree=0.8, min_child_samples=50, num_leaves=150, reg_lambda=0, reg_alpha=1, random_state = 42) \n",
    "#reg_lambda alias L2 and reg_alpha alias L1\n",
    "\n",
    "#  Fit the Estimator & compute RMSE & Score (Training & Validation) scores\n",
    "\n",
    "lgbmr.fit(X_train_tr, y_train)\n",
    "\n",
    "train.append(('lgbmr', lgbmr.score(X_train_tr, y_train)))\n",
    "val.append(('lgbmr', lgbmr.score(X_val_tr, y_val)))\n",
    "\n",
    "print(\"Training Scores:\",lgbmr.score(X_train_tr, y_train))\n",
    "print(\"Validation Score:\",lgbmr.score(X_val_tr, y_val))\n",
    "print(\"RMSE Training:\",np.sqrt(mean_squared_error(y_train, lgbmr.predict(X_train_tr))))\n",
    "print(\"RMSE Validation:\",np.sqrt(mean_squared_error(y_val, lgbmr.predict(X_val_tr))))"
   ]
  },
  {
   "cell_type": "markdown",
   "id": "fdc42a82",
   "metadata": {
    "papermill": {
     "duration": 0.015535,
     "end_time": "2023-11-30T17:08:56.038259",
     "exception": false,
     "start_time": "2023-11-30T17:08:56.022724",
     "status": "completed"
    },
    "tags": []
   },
   "source": [
    "# MULTILAYER PERCEPTRON REGRESSOR WITH GRID SEARCH CROSS VALIDATION FOR HYPER PARAMATER TUNING"
   ]
  },
  {
   "cell_type": "code",
   "execution_count": 21,
   "id": "7cb5c3db",
   "metadata": {
    "execution": {
     "iopub.execute_input": "2023-11-30T17:08:56.072082Z",
     "iopub.status.busy": "2023-11-30T17:08:56.070996Z",
     "iopub.status.idle": "2023-11-30T17:08:56.075996Z",
     "shell.execute_reply": "2023-11-30T17:08:56.075212Z"
    },
    "papermill": {
     "duration": 0.02404,
     "end_time": "2023-11-30T17:08:56.078048",
     "exception": false,
     "start_time": "2023-11-30T17:08:56.054008",
     "status": "completed"
    },
    "tags": []
   },
   "outputs": [],
   "source": [
    "# # Initiate the instance of default instance Light GBM Regressor\n",
    "\n",
    "# mlpr = MLPRegressor(random_state = 42)\n",
    "\n",
    "# # Define the Param Dictonary for various combinations for which Hyperparameter tunning is needed\n",
    "\n",
    "# param_grid = {'hidden_layer_sizes': [(50,50),(100,50), (50,50,50)],\n",
    "#               'alpha': [0.0001, 0.0002],\n",
    "#               'learning_rate': ['constant','adaptive'],\n",
    "#              }\n",
    "\n",
    "# # Run GridSeachCV with 3-fold Cross Validation to identify the Best parameters for MLP Regressor\n",
    "\n",
    "# mlpr_gsv = GridSearchCV(\n",
    "#     mlpr,\n",
    "#     param_grid,\n",
    "#     cv=3, \n",
    "#     scoring='neg_mean_squared_error', \n",
    "#     verbose=0, n_jobs=-1)\n",
    "\n",
    "# # Fit transformer to identify the best estimator for MLPRegressor\n",
    "\n",
    "# mlpr_gsv.fit(X_train_tr, y_train)\n",
    "\n",
    "# mlpr_gsv.best_estimator_.get_params()"
   ]
  },
  {
   "cell_type": "code",
   "execution_count": 22,
   "id": "96ebab63",
   "metadata": {
    "execution": {
     "iopub.execute_input": "2023-11-30T17:08:56.112365Z",
     "iopub.status.busy": "2023-11-30T17:08:56.111617Z",
     "iopub.status.idle": "2023-11-30T17:21:21.541959Z",
     "shell.execute_reply": "2023-11-30T17:21:21.540375Z"
    },
    "papermill": {
     "duration": 745.452141,
     "end_time": "2023-11-30T17:21:21.546143",
     "exception": false,
     "start_time": "2023-11-30T17:08:56.094002",
     "status": "completed"
    },
    "tags": []
   },
   "outputs": [
    {
     "name": "stdout",
     "output_type": "stream",
     "text": [
      "Training Scores: 0.9589741589462334\n",
      "Validation Score: 0.9587616988398084\n",
      "RMSE Training: 5.012717483718434\n",
      "RMSE Validation: 5.045226737761409\n",
      "Number of iteration taken for Convergence: 208\n"
     ]
    }
   ],
   "source": [
    "# Initiate instance of MLP Regressor with Best Parameters from Hyper Tuning\n",
    "\n",
    "mlpr = MLPRegressor(hidden_layer_sizes = (100,50), max_iter = 300, \n",
    "                       random_state = 42, n_iter_no_change = 50, early_stopping = True)\n",
    "\n",
    "#  Fit the Estimator & compute RMSE & Score (Training & Validation) scores\n",
    "\n",
    "mlpr.fit(X_train_tr, y_train)\n",
    "\n",
    "train.append(('mlpr', mlpr.score(X_train_tr, y_train)))\n",
    "val.append(('mlpr', mlpr.score(X_val_tr, y_val)))\n",
    "\n",
    "print(\"Training Scores:\",mlpr.score(X_train_tr, y_train))\n",
    "print(\"Validation Score:\",mlpr.score(X_val_tr, y_val))\n",
    "print(\"RMSE Training:\",np.sqrt(mean_squared_error(y_train, mlpr.predict(X_train_tr))))\n",
    "print(\"RMSE Validation:\",np.sqrt(mean_squared_error(y_val, mlpr.predict(X_val_tr))))\n",
    "print(\"Number of iteration taken for Convergence:\",mlpr.n_iter_)"
   ]
  },
  {
   "cell_type": "markdown",
   "id": "0e5f5df6",
   "metadata": {
    "papermill": {
     "duration": 0.034734,
     "end_time": "2023-11-30T17:21:21.615489",
     "exception": false,
     "start_time": "2023-11-30T17:21:21.580755",
     "status": "completed"
    },
    "tags": []
   },
   "source": [
    "# XGBOOST REGRESSOR WITH GRID SEARCH CROSS VALIDATION FOR HYPER PARAMATER TUNING"
   ]
  },
  {
   "cell_type": "code",
   "execution_count": 23,
   "id": "3f897787",
   "metadata": {
    "execution": {
     "iopub.execute_input": "2023-11-30T17:21:21.672023Z",
     "iopub.status.busy": "2023-11-30T17:21:21.671451Z",
     "iopub.status.idle": "2023-11-30T17:21:21.677450Z",
     "shell.execute_reply": "2023-11-30T17:21:21.676289Z"
    },
    "papermill": {
     "duration": 0.029575,
     "end_time": "2023-11-30T17:21:21.679672",
     "exception": false,
     "start_time": "2023-11-30T17:21:21.650097",
     "status": "completed"
    },
    "tags": []
   },
   "outputs": [],
   "source": [
    "# # Initiate the instance of default instance XGBOOST Regressor\n",
    "\n",
    "# xgbr =  XGBRegressor(objective ='reg:squarederror', random_state = 42)\n",
    "\n",
    "# # Define the Param Dictonary for various combinations for which Hyperparameter tunning is needed\n",
    "\n",
    "# parameters = {\n",
    "#     'learning_rate': [0.1, 0.3],\n",
    "#     'max_depth': [5, 6, 7],\n",
    "#     'n_estimators': [100, 150],\n",
    "#     'subsample': [0.8, 0.9],\n",
    "#     'colsample_bytree':[0.8, 0.9],\n",
    "#    'gamma':[i/10.0 for i in range(0,3)]\n",
    "# }\n",
    "\n",
    "# # Run GridSeachCV with 5-fold Cross Validation to identify the Best parameters for XGBOOST Regressor\n",
    "\n",
    "# xgbr_gsv = GridSearchCV(\n",
    "#     estimator=xgbr,\n",
    "#     param_grid=parameters,\n",
    "#     scoring = 'neg_root_mean_squared_error',\n",
    "#     n_jobs = -1,\n",
    "#     cv = 5,\n",
    "#     verbose=True\n",
    "# )\n",
    "\n",
    "# # Fit transformer to identify the best estimator for XGBRegressor\n",
    "\n",
    "# xgbr_gsv.fit(X_train_tr, y_train)\n",
    "\n",
    "# xgbr_gsv.best_estimator_.get_params()"
   ]
  },
  {
   "cell_type": "code",
   "execution_count": 24,
   "id": "c1c16366",
   "metadata": {
    "execution": {
     "iopub.execute_input": "2023-11-30T17:21:21.714500Z",
     "iopub.status.busy": "2023-11-30T17:21:21.714081Z",
     "iopub.status.idle": "2023-11-30T17:21:44.546036Z",
     "shell.execute_reply": "2023-11-30T17:21:44.544566Z"
    },
    "papermill": {
     "duration": 22.852706,
     "end_time": "2023-11-30T17:21:44.548932",
     "exception": false,
     "start_time": "2023-11-30T17:21:21.696226",
     "status": "completed"
    },
    "tags": []
   },
   "outputs": [
    {
     "name": "stdout",
     "output_type": "stream",
     "text": [
      "Training Scores: 0.9785881604712608\n",
      "Validation Score: 0.9634035679477893\n",
      "RMSE Training: 3.621358095930619\n",
      "RMSE Validation: 4.752801525712096\n"
     ]
    }
   ],
   "source": [
    "# Initiate instance of XGBOOST Regressor with Best Parameters from Hyper Tuning\n",
    "\n",
    "xgbr = XGBRegressor(objective ='reg:squarederror',random_state = 42)\n",
    "\n",
    "#  Fit the Estimator & compute RMSE & Score (Training & Validation) scores\n",
    "\n",
    "xgbr.fit(X_train_tr, y_train)\n",
    "\n",
    "train.append(('xgbr', xgbr.score(X_train_tr, y_train)))\n",
    "val.append(('xgbr', xgbr.score(X_val_tr, y_val)))\n",
    "\n",
    "print(\"Training Scores:\",xgbr.score(X_train_tr, y_train))\n",
    "print(\"Validation Score:\",xgbr.score(X_val_tr, y_val))\n",
    "print(\"RMSE Training:\",np.sqrt(mean_squared_error(y_train, xgbr.predict(X_train_tr))))\n",
    "print(\"RMSE Validation:\",np.sqrt(mean_squared_error(y_val, xgbr.predict(X_val_tr))))"
   ]
  },
  {
   "cell_type": "code",
   "execution_count": 25,
   "id": "b4b94657",
   "metadata": {
    "execution": {
     "iopub.execute_input": "2023-11-30T17:21:44.586197Z",
     "iopub.status.busy": "2023-11-30T17:21:44.585715Z",
     "iopub.status.idle": "2023-11-30T17:21:44.594252Z",
     "shell.execute_reply": "2023-11-30T17:21:44.593164Z"
    },
    "papermill": {
     "duration": 0.029902,
     "end_time": "2023-11-30T17:21:44.596623",
     "exception": false,
     "start_time": "2023-11-30T17:21:44.566721",
     "status": "completed"
    },
    "tags": []
   },
   "outputs": [
    {
     "data": {
      "text/plain": [
       "array([0.00735128, 0.42676085, 0.00760914, 0.02820152, 0.0290157 ,\n",
       "       0.00388556, 0.01036439, 0.00428865, 0.00526145, 0.00717521,\n",
       "       0.00480789, 0.01155799, 0.        , 0.01001997, 0.01198978,\n",
       "       0.01944923, 0.00522559, 0.27085122, 0.02871205, 0.01676419,\n",
       "       0.04219154, 0.00842336, 0.04009345], dtype=float32)"
      ]
     },
     "execution_count": 25,
     "metadata": {},
     "output_type": "execute_result"
    }
   ],
   "source": [
    "# Identify feature importance based on XGBRegressor Estimator fit\n",
    "xgbr.feature_importances_"
   ]
  },
  {
   "cell_type": "code",
   "execution_count": 26,
   "id": "c66df454",
   "metadata": {
    "execution": {
     "iopub.execute_input": "2023-11-30T17:21:44.634301Z",
     "iopub.status.busy": "2023-11-30T17:21:44.633497Z",
     "iopub.status.idle": "2023-11-30T17:21:44.879282Z",
     "shell.execute_reply": "2023-11-30T17:21:44.878033Z"
    },
    "papermill": {
     "duration": 0.267567,
     "end_time": "2023-11-30T17:21:44.881922",
     "exception": false,
     "start_time": "2023-11-30T17:21:44.614355",
     "status": "completed"
    },
    "tags": []
   },
   "outputs": [
    {
     "data": {
      "image/png": "[encoded data removed]",
      "text/plain": [
       "<Figure size 640x480 with 1 Axes>"
      ]
     },
     "metadata": {},
     "output_type": "display_data"
    }
   ],
   "source": [
    "# Compare and plot validation scores of Linear Regression, LGBMRegressor, MLPRegressor & XGBOOST\n",
    "\n",
    "tmodel, tscore = zip(*train)\n",
    "vmodel, vscore = zip(*val)\n",
    "plt.xlabel(\"model\")\n",
    "plt.ylabel(\"score\")\n",
    "plt.plot(vmodel, vscore,'-s')\n",
    "plt.grid(True)\n",
    "plt.show()"
   ]
  },
  {
   "cell_type": "code",
   "execution_count": 27,
   "id": "525fbdca",
   "metadata": {
    "execution": {
     "iopub.execute_input": "2023-11-30T17:21:44.919804Z",
     "iopub.status.busy": "2023-11-30T17:21:44.919370Z",
     "iopub.status.idle": "2023-11-30T17:21:45.967986Z",
     "shell.execute_reply": "2023-11-30T17:21:45.966654Z"
    },
    "papermill": {
     "duration": 1.070557,
     "end_time": "2023-11-30T17:21:45.970902",
     "exception": false,
     "start_time": "2023-11-30T17:21:44.900345",
     "status": "completed"
    },
    "tags": []
   },
   "outputs": [],
   "source": [
    "# Create copy of test data to be used for inversing total_amount to -ve\n",
    "ot = test.copy(deep=True)\n",
    "\n",
    "# Clean the Test dataset using defined cleanse function\n",
    "test = cleanse(test)\n",
    "\n",
    "# Apply preprocessing to test dataset\n",
    "x_test = full_pipeline.transform(test)\n",
    "\n",
    "# Make prediction using Estimator with best validation score\n",
    "y_test_pred= mlpr.predict(x_test)\n",
    "\n",
    "\n",
    "# Create result dataframe with 'total_amount' from the predictions\n",
    "result = pd.DataFrame({'total_amount': y_test_pred})\n",
    "\n",
    "# Convert 'total_amount' to -ve if any of the columns in copied dataframe (extra, tolls_amount,improvement_surcharge, \n",
    "# congestion_surcharge, Airport_fee) is negative\n",
    "\n",
    "result['total_amount'] = np.where((ot.extra < 0) | (ot.tolls_amount < 0) | (ot.improvement_surcharge < 0) \n",
    "                                  | (ot.congestion_surcharge < 0)  | (ot.Airport_fee < 0), -1 * result['total_amount'], result['total_amount'])\n",
    "\n",
    "# Reset the index to start from 1 and create submission.csv \n",
    "result = result.reset_index()\n",
    "result = result.rename(columns={\"index\":\"ID\"})\n",
    "result['ID'] = result.index + 1\n",
    "\n",
    "result.to_csv('/kaggle/working/submission.csv', index=False)"
   ]
  }
 ],
 "metadata": {
  "kaggle": {
   "accelerator": "none",
   "dataSources": [
    {
     "databundleVersionId": 6604167,
     "sourceId": 61246,
     "sourceType": "competition"
    }
   ],
   "dockerImageVersionId": 30558,
   "isGpuEnabled": false,
   "isInternetEnabled": true,
   "language": "python",
   "sourceType": "notebook"
  },
  "kernelspec": {
   "display_name": "Python 3",
   "language": "python",
   "name": "python3"
  },
  "language_info": {
   "codemirror_mode": {
    "name": "ipython",
    "version": 3
   },
   "file_extension": ".py",
   "mimetype": "text/x-python",
   "name": "python",
   "nbconvert_exporter": "python",
   "pygments_lexer": "ipython3",
   "version": "3.10.12"
  },
  "papermill": {
   "default_parameters": {},
   "duration": 801.091895,
   "end_time": "2023-11-30T17:21:46.914563",
   "environment_variables": {},
   "exception": null,
   "input_path": "__notebook__.ipynb",
   "output_path": "__notebook__.ipynb",
   "parameters": {},
   "start_time": "2023-11-30T17:08:25.822668",
   "version": "2.4.0"
  }
 },
 "nbformat": 4,
 "nbformat_minor": 5
}
